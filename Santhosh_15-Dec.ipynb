{
 "cells": [
  {
   "cell_type": "code",
   "execution_count": 89,
   "metadata": {
    "collapsed": false
   },
   "outputs": [
    {
     "name": "stdout",
     "output_type": "stream",
     "text": [
      "Enter number:6\n",
      "Even\n"
     ]
    }
   ],
   "source": [
    "def verify(x):\n",
    "    if((x%2)==0):\n",
    "        print \"Even\"\n",
    "    else:\n",
    "        print \"Odd\"\n",
    "\n",
    "num = int(raw_input(\"Enter number:\"))\n",
    "verify(num)\n",
    "    "
   ]
  },
  {
   "cell_type": "code",
   "execution_count": 91,
   "metadata": {
    "collapsed": false
   },
   "outputs": [
    {
     "name": "stdout",
     "output_type": "stream",
     "text": [
      "Enter number:-1\n",
      "Negative\n"
     ]
    }
   ],
   "source": [
    "def check(x):\n",
    "    if(x<0):\n",
    "        print \"Negative\"\n",
    "    else:\n",
    "        print \"Positive\"\n",
    "\n",
    "num = int(raw_input(\"Enter number:\"))\n",
    "check(num)"
   ]
  },
  {
   "cell_type": "code",
   "execution_count": 94,
   "metadata": {
    "collapsed": false
   },
   "outputs": [
    {
     "name": "stdout",
     "output_type": "stream",
     "text": [
      "santhosh\n",
      "-1\n"
     ]
    }
   ],
   "source": [
    "string1 = \"python is pure object oriented programming language\"\n",
    "sub_string = raw_input()\n",
    "print string1.find(sub_string)"
   ]
  },
  {
   "cell_type": "code",
   "execution_count": null,
   "metadata": {
    "collapsed": true
   },
   "outputs": [],
   "source": []
  }
 ],
 "metadata": {
  "kernelspec": {
   "display_name": "Python 2",
   "language": "python",
   "name": "python2"
  },
  "language_info": {
   "codemirror_mode": {
    "name": "ipython",
    "version": 2
   },
   "file_extension": ".py",
   "mimetype": "text/x-python",
   "name": "python",
   "nbconvert_exporter": "python",
   "pygments_lexer": "ipython2",
   "version": "2.7.12"
  }
 },
 "nbformat": 4,
 "nbformat_minor": 2
}

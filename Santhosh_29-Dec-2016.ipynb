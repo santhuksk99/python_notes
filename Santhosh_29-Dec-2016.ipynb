{
 "cells": [
  {
   "cell_type": "code",
   "execution_count": 1,
   "metadata": {
    "collapsed": false
   },
   "outputs": [
    {
     "name": "stdout",
     "output_type": "stream",
     "text": [
      "[6, 8, 10, 12]\n"
     ]
    }
   ],
   "source": [
    "l1=[1,2,3,4]\n",
    "l2=[5,6,7,8]\n",
    "l3=[]\n",
    "#General way\n",
    "for i,j in zip(l1,l2):\n",
    "    l3.append(i+j)\n",
    "print l3\n"
   ]
  },
  {
   "cell_type": "code",
   "execution_count": 8,
   "metadata": {
    "collapsed": false
   },
   "outputs": [
    {
     "name": "stdout",
     "output_type": "stream",
     "text": [
      "[6, 8, 10, 12]\n"
     ]
    }
   ],
   "source": [
    "l1=[1,2,3,4]\n",
    "l2=[5,6,7,8]\n",
    "\n",
    "#List comprehensions\n",
    "l4=[]\n",
    "[l4.append(i+j) for i,j in zip(l1,l2)]\n",
    "print l4"
   ]
  },
  {
   "cell_type": "code",
   "execution_count": 9,
   "metadata": {
    "collapsed": false
   },
   "outputs": [
    {
     "name": "stdout",
     "output_type": "stream",
     "text": [
      "[6, 8, 10, 12]\n"
     ]
    }
   ],
   "source": [
    "l1=[1,2,3,4]\n",
    "l2=[5,6,7,8]\n",
    "\n",
    "#using map\n",
    "def add_lists(i,j):\n",
    "    return i+j\n",
    "print map(add_lists,l1,l2)    "
   ]
  },
  {
   "cell_type": "code",
   "execution_count": 13,
   "metadata": {
    "collapsed": false
   },
   "outputs": [
    {
     "name": "stdout",
     "output_type": "stream",
     "text": [
      "[6, 8, 10, 12]\n"
     ]
    }
   ],
   "source": [
    "l1=[1,2,3,4]\n",
    "l2=[5,6,7,8]\n",
    "\n",
    "#using lambda\n",
    "print map(lambda x,y:x+y,l1,l2)"
   ]
  },
  {
   "cell_type": "code",
   "execution_count": null,
   "metadata": {
    "collapsed": true
   },
   "outputs": [],
   "source": [
    "x = raw_input(\"Enter list elements:\\n\")\n",
    "l=[]\n",
    "def fun(a):\n",
    "\tfor i in a:\n",
    "\t\tif i.isdigit() or isinstance(i,float):\n",
    "\t\t\tl.append(int(i))\n",
    "\t\telse:\n",
    "\t\t\tl.append(0)\n",
    "\treturn l\n",
    "print fun(x)\n",
    "print \"sum of list l is:\",sum(l) \n",
    "print \"max of list l is:\",max(l)\n",
    "print \"min of list l is:\",min(l)\n",
    "print \"Average of list l is:\",sum(l)/len(l)\n",
    "print \"sort of list l is:\",l.sort()\n",
    "\n",
    "y=raw_input(\"Enter number to find in x:\")\n",
    "print \"count of y in x is :\",x.count(y)\n",
    "print \"index of x in y is :\",x.index(y)"
   ]
  }
 ],
 "metadata": {
  "kernelspec": {
   "display_name": "Python 2",
   "language": "python",
   "name": "python2"
  },
  "language_info": {
   "codemirror_mode": {
    "name": "ipython",
    "version": 2
   },
   "file_extension": ".py",
   "mimetype": "text/x-python",
   "name": "python",
   "nbconvert_exporter": "python",
   "pygments_lexer": "ipython2",
   "version": "2.7.12"
  }
 },
 "nbformat": 4,
 "nbformat_minor": 2
}

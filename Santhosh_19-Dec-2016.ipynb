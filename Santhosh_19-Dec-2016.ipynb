{
 "cells": [
  {
   "cell_type": "code",
   "execution_count": 3,
   "metadata": {
    "collapsed": false
   },
   "outputs": [
    {
     "name": "stdout",
     "output_type": "stream",
     "text": [
      "Enter a word:\n",
      "@santhosh\n",
      "Given string contains special character\n"
     ]
    }
   ],
   "source": [
    "### Date: 19-Dec-2016 ###\n",
    "#Program to check given string contains special character or not?\n",
    "\n",
    "word = raw_input(\"Enter a word:\\n\")\n",
    "if not word.isalnum():\n",
    "    print \"Given string contains special character\"\n",
    "else:\n",
    "    print \"Given string is alphanumeric\""
   ]
  },
  {
   "cell_type": "code",
   "execution_count": 5,
   "metadata": {
    "collapsed": false
   },
   "outputs": [
    {
     "name": "stdout",
     "output_type": "stream",
     "text": [
      "Enter a word:obj\n",
      "15\n"
     ]
    }
   ],
   "source": [
    "#Check whether sub string is there in actual string or not?\n",
    "\n",
    "sentence = \"Python is pure object oriented programming language\"\n",
    "word = raw_input(\"Enter a word to find in actual string:\")\n",
    "print sentence.find(word)"
   ]
  },
  {
   "cell_type": "code",
   "execution_count": 6,
   "metadata": {
    "collapsed": false
   },
   "outputs": [
    {
     "name": "stdout",
     "output_type": "stream",
     "text": [
      "Enter a word to remove from actual string:object\n",
      "Python is pure  oriented programming language\n"
     ]
    }
   ],
   "source": [
    "#Remove a sub string from actual string\n",
    "\n",
    "sentence = \"Python is pure object oriented programming language\"\n",
    "word = raw_input(\"Enter a word to remove from actual string:\")\n",
    "print sentence.replace(word,'')"
   ]
  },
  {
   "cell_type": "code",
   "execution_count": 11,
   "metadata": {
    "collapsed": false
   },
   "outputs": [
    {
     "name": "stdout",
     "output_type": "stream",
     "text": [
      "Enter sub string:\n",
      "P\n",
      "P: string.count(sub_string)\n"
     ]
    }
   ],
   "source": [
    "#Take a substring and print count from acutal string\n",
    "\n",
    "string=\"python program\"\n",
    "sub_string=raw_input(\"Enter sub string:\\n\")\n",
    "if sub_string==\"P\":\n",
    "    sub_string=\"p\"\n",
    "    print string.count(sub_string)\n",
    "elif sub_string==\"GRAM\":\n",
    "    sub_string=\"gram\"\n",
    "    print string.count(sub_string)\n",
    "else:\n",
    "    print string.count(sub_string)"
   ]
  },
  {
   "cell_type": "code",
   "execution_count": null,
   "metadata": {
    "collapsed": true
   },
   "outputs": [],
   "source": []
  }
 ],
 "metadata": {
  "kernelspec": {
   "display_name": "Python 2",
   "language": "python",
   "name": "python2"
  },
  "language_info": {
   "codemirror_mode": {
    "name": "ipython",
    "version": 2
   },
   "file_extension": ".py",
   "mimetype": "text/x-python",
   "name": "python",
   "nbconvert_exporter": "python",
   "pygments_lexer": "ipython2",
   "version": "2.7.12"
  }
 },
 "nbformat": 4,
 "nbformat_minor": 2
}

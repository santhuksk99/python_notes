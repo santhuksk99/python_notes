{
 "cells": [
  {
   "cell_type": "code",
   "execution_count": 49,
   "metadata": {
    "collapsed": false
   },
   "outputs": [
    {
     "name": "stdout",
     "output_type": "stream",
     "text": [
      "One dimensional of list 'l' is: [10, 20, 30, 40, 50, 60, 70, 80, 90]\n"
     ]
    }
   ],
   "source": [
    "# Convert 2D list to 1D list\n",
    "\n",
    "l=[10,20,30,[40,50,60],[70,80,90]]\n",
    "l1=[]\n",
    "for i in l:\n",
    "    if isinstance(i,list):\n",
    "        for j in i:\n",
    "            l1.append(j)\n",
    "    else:\n",
    "        l1.append(i)\n",
    "print \"One dimensional of list 'l' is:\",l1"
   ]
  },
  {
   "cell_type": "code",
   "execution_count": 82,
   "metadata": {
    "collapsed": false
   },
   "outputs": [
    {
     "name": "stdout",
     "output_type": "stream",
     "text": [
      "Enter a number:10\n",
      "nth occurence of num in actual list 'l' is: 8\n"
     ]
    }
   ],
   "source": [
    "# Write a function to find out nth occurence\n",
    "l=[10,20,30,40,10,50,60,70,10,90,100]\n",
    "length = len(l)\n",
    "num=int(raw_input(\"Enter a number:\"))\n",
    "n=0\n",
    "while (n<length):\n",
    "    if l[n]==num:\n",
    "        final_value=n\n",
    "    n=n+1\n",
    "print \"nth occurence of num in actual list 'l' is:\",final_value\n"
   ]
  },
  {
   "cell_type": "code",
   "execution_count": null,
   "metadata": {
    "collapsed": false
   },
   "outputs": [
    {
     "name": "stdout",
     "output_type": "stream",
     "text": [
      "1.insert\n",
      "2.delete\n",
      "3.search\n",
      "4.add\n",
      "5.quit\n"
     ]
    }
   ],
   "source": [
    "l=[10,20,30,40,50]\n",
    "print \"1.insert\\n2.delete\\n3.search\\n4.add\\n5.quit\"\n",
    "num =raw_input(\"\\nChoose one option from above:\\n\")\n",
    "if num == '1':\n",
    "    x = int(raw_input(\"\\nEnter index number where you want to insert in list:\\n\"))\n",
    "    y = raw_input(\"\\nEnter number to insert in a list:\\n\")\n",
    "    l.insert(x,y)\n",
    "    print l\n",
    "if num == '2':\n",
    "    print \"\\n1.Enter start and end range to delete\\n2.Enter singel index to delete in list:\\n\"\n",
    "    x = raw_input(\"\\nChoose one option from above:\\n\")\n",
    "    if x =='1':\n",
    "        a = int(raw_input(\"\\nEnter start index range:\\n\"))\n",
    "        b = int(raw_input(\"\\nEnter end index range:\\n\"))\n",
    "        del l[a:b]\n",
    "        print l\n",
    "    if x =='2':\n",
    "        a = int(raw_input(\"\\nEnter index number where you want to delete in list:\\n\"))\n",
    "        del l[a]\n",
    "        print l\n",
    "if num== '3':\n",
    "    x = raw_input(\"\\nEnter an element to search in list:\\n \"))\n",
    "    if x in l:\n",
    "        print True\n",
    "    else:\n",
    "        print False\n",
    "if num =='4':\n",
    "    x = raw_input(\"\\nEnter an element to add in list:\\n\")\n",
    "    l =l+[x]\n",
    "    print l\n",
    "if num =='5':\n",
    "    print \"\\nYou have selected to quit, so bye\\n\"\n",
    "    break\n"
   ]
  },
  {
   "cell_type": "code",
   "execution_count": null,
   "metadata": {
    "collapsed": true
   },
   "outputs": [],
   "source": [
    "# Stack and Queue operations using list functions\n",
    "import sys\n",
    "def process(inputString):\n",
    "    inputList = inputString\n",
    "    newList = [9,8,7,6,5,4,3,2,1] \n",
    "    for element in range(len(inputList)):\n",
    "        print \"Popping last element from the stack : \",inputList.pop()\n",
    "        print \"Current state of the input list \" , inputList\n",
    "    print \n",
    "    print \"######### Now pushing new set of elements in the list ##############\"\n",
    "    print \n",
    "    for newElement in newList:\n",
    "        print \"Adding new element in the stack : \" ,newElement\n",
    "        inputList.append(newElement)\n",
    "        print \"Current state of the input list \" ,inputList\n",
    "process ([1,2,3,4,5])"
   ]
  },
  {
   "cell_type": "code",
   "execution_count": null,
   "metadata": {
    "collapsed": true
   },
   "outputs": [],
   "source": []
  }
 ],
 "metadata": {
  "kernelspec": {
   "display_name": "Python 2",
   "language": "python",
   "name": "python2"
  },
  "language_info": {
   "codemirror_mode": {
    "name": "ipython",
    "version": 2
   },
   "file_extension": ".py",
   "mimetype": "text/x-python",
   "name": "python",
   "nbconvert_exporter": "python",
   "pygments_lexer": "ipython2",
   "version": "2.7.12"
  }
 },
 "nbformat": 4,
 "nbformat_minor": 2
}

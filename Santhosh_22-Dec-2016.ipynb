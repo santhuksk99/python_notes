{
 "cells": [
  {
   "cell_type": "code",
   "execution_count": 4,
   "metadata": {
    "collapsed": false
   },
   "outputs": [
    {
     "name": "stdout",
     "output_type": "stream",
     "text": [
      "enter sub:pure\n",
      "nth occurrence of sub_string is: 18\n"
     ]
    }
   ],
   "source": [
    "# Program to print nth occurrence of sub string from actual string\n",
    "\n",
    "act_str=\"python program is pure object oriented language\"\n",
    "sub_str= raw_input(\"enter sub:\")\n",
    "act_str = act_str.lower()\n",
    "sub_str = sub_str.lower()\n",
    "n = act_str.find(sub_str)\n",
    "while n != -1: \n",
    "    nth_occurence=n\n",
    "    n = act_str.find(sub_str,act_str.find(sub_str)+n+1)\n",
    "print \"nth occurrence of sub_string is:\",nth_occurence"
   ]
  },
  {
   "cell_type": "code",
   "execution_count": 8,
   "metadata": {
    "collapsed": false
   },
   "outputs": [
    {
     "name": "stdout",
     "output_type": "stream",
     "text": [
      "Enter a number:1\n",
      "00001\n"
     ]
    }
   ],
   "source": [
    "# 100 -> 00100\n",
    "# 1   -> 00001\n",
    "# 10  -> 00010\n",
    "#1000 -> 01000\n",
    "# 100000 -> 100000\n",
    "\n",
    "str = raw_input(\"Enter a number:\")\n",
    "print str.zfill(5)"
   ]
  },
  {
   "cell_type": "code",
   "execution_count": null,
   "metadata": {
    "collapsed": true
   },
   "outputs": [],
   "source": []
  }
 ],
 "metadata": {
  "kernelspec": {
   "display_name": "Python 2",
   "language": "python",
   "name": "python2"
  },
  "language_info": {
   "codemirror_mode": {
    "name": "ipython",
    "version": 2
   },
   "file_extension": ".py",
   "mimetype": "text/x-python",
   "name": "python",
   "nbconvert_exporter": "python",
   "pygments_lexer": "ipython2",
   "version": "2.7.12"
  }
 },
 "nbformat": 4,
 "nbformat_minor": 2
}
